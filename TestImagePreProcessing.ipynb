{
 "cells": [
  {
   "cell_type": "code",
   "execution_count": 8,
   "metadata": {},
   "outputs": [
    {
     "name": "stdout",
     "output_type": "stream",
     "text": [
      " --  C:/Users/70018928/SVHN_CNN/TestImage\\-D-1-4.jpg\n",
      " --  C:/Users/70018928/SVHN_CNN/TestImage\\-D-30-2.jpg\n",
      " --  C:/Users/70018928/SVHN_CNN/TestImage\\0(1).jpg\n",
      " --  C:/Users/70018928/SVHN_CNN/TestImage\\5(139).jpg\n",
      " --  C:/Users/70018928/SVHN_CNN/TestImage\\9(164).jpg\n",
      " --  C:/Users/70018928/SVHN_CNN/TestImage\\O-D2-1-4.jpg\n",
      " --  C:/Users/70018928/SVHN_CNN/TestImage\\O-D2-1-6.jpg\n",
      " --  C:/Users/70018928/SVHN_CNN/TestImage\\O-D2-3-3.jpg\n",
      " --  C:/Users/70018928/SVHN_CNN/TestImage\\O-D2-3-4.jpg\n",
      " --  C:/Users/70018928/SVHN_CNN/TestImage\\_SR__1(78)-79.jpg\n",
      " --  C:/Users/70018928/SVHN_CNN/TestImage\\_SR__3(18)-90.jpg\n",
      " --  C:/Users/70018928/SVHN_CNN/TestImage\\_SR__5(188)-99.jpg\n",
      " --  C:/Users/70018928/SVHN_CNN/TestImage\\_SR__5(23)-39.jpg\n",
      "shape: (13, 32, 32, 1)\n",
      " Complete \n"
     ]
    },
    {
     "name": "stderr",
     "output_type": "stream",
     "text": [
      "C:\\Users\\70018928\\AppData\\Local\\Continuum\\anaconda3\\envs\\snakes\\lib\\site-packages\\ipykernel_launcher.py:8: DeprecationWarning: Both axis > a.ndim and axis < -a.ndim - 1 are deprecated and will raise an AxisError in the future.\n",
      "  \n"
     ]
    }
   ],
   "source": [
    "import cv2\n",
    "from PIL import Image, ImageOps\n",
    "import glob\n",
    "import numpy as np\n",
    "import h5py\n",
    "\n",
    "# Function to convert RGB image to Grayscale image\n",
    "def rgb2gray(images):\n",
    "    return np.expand_dims(np.dot(images, [0.2990, 0.5870, 0.1140]), axis=3)\n",
    "\n",
    "\n",
    "# Specify Path of the testing image storage\n",
    "img_path=r'C:/Users/70018928/SVHN_CNN/TestImage/'\n",
    "\n",
    "# Body : Read-in and convert\n",
    "imageData = []\n",
    "img_path_file=img_path+'*.JPG'\n",
    "files = glob.glob (img_path_file)\n",
    "for myFile in files:\n",
    "    print(' -- ',myFile)\n",
    "    im = Image.open(myFile)\n",
    "    #im.show()\n",
    "    \n",
    "    size = (32, 32)\n",
    "    resizedImage = ImageOps.fit(im, size, Image.ANTIALIAS)\n",
    "    #resizedImage.show()\n",
    "\n",
    "    npImage=np.array(resizedImage)\n",
    "    #print(' ==> ',type(npImage), ' :: ',npImage.shape)\n",
    "\n",
    "    greyscale = rgb2gray(npImage).astype(np.float32)\n",
    "    #print(' ==> ',type(greyscale), ' :: ',greyscale.shape)\n",
    "    imageData.append (greyscale)\n",
    "\n",
    "print('shape:', np.array(imageData).shape)\n",
    "\n",
    "\n",
    "# Write the testing image to file => To be used by main code\n",
    "# Create file\n",
    "h5f = h5py.File('Test_Grey.h5', 'w')\n",
    "\n",
    "# Store the datasets\n",
    "h5f.create_dataset('dTest', data=imageData)\n",
    "\n",
    "# Close the file\n",
    "h5f.close()\n",
    "\n",
    "print(' Complete ')"
   ]
  }
 ],
 "metadata": {
  "kernelspec": {
   "display_name": "snakes",
   "language": "python",
   "name": "snakes"
  },
  "language_info": {
   "codemirror_mode": {
    "name": "ipython",
    "version": 3
   },
   "file_extension": ".py",
   "mimetype": "text/x-python",
   "name": "python",
   "nbconvert_exporter": "python",
   "pygments_lexer": "ipython3",
   "version": "3.6.5"
  }
 },
 "nbformat": 4,
 "nbformat_minor": 2
}
